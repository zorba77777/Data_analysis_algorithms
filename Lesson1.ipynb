{
 "cells": [
  {
   "cell_type": "markdown",
   "metadata": {},
   "source": [
    "#### Подберите скорость обучения (alpha) и количество итераций."
   ]
  },
  {
   "cell_type": "code",
   "execution_count": 19,
   "metadata": {},
   "outputs": [],
   "source": [
    "import numpy as np"
   ]
  },
  {
   "cell_type": "code",
   "execution_count": 20,
   "metadata": {},
   "outputs": [],
   "source": [
    "def calc_mse(y, y_pred):\n",
    "    err = np.mean((y - y_pred)**2)\n",
    "    return err"
   ]
  },
  {
   "cell_type": "code",
   "execution_count": 21,
   "metadata": {},
   "outputs": [],
   "source": [
    "X = np.array([[1, 1, 1, 1, 1, 1, 1, 1, 1, 1],\n",
    "              [1, 1, 2, 1, 3, 0, 5, 10, 1, 2]])\n",
    "y = [45, 55, 50, 59, 65, 35, 75, 80, 50, 60]\n",
    "n = X.shape[1]\n",
    "W = np.array([1, 0.5])"
   ]
  },
  {
   "cell_type": "code",
   "execution_count": 22,
   "metadata": {},
   "outputs": [
    {
     "name": "stdout",
     "output_type": "stream",
     "text": [
      "0 [3.204 7.3  ] 3173.15\n",
      "100 [41.95214292  4.88570667] 61.568780958579865\n",
      "200 [46.58653419  4.02993086] 46.171203616546116\n",
      "300 [47.15320146  3.92529142] 45.94099410777859\n",
      "400 [47.22249035  3.9124967 ] 45.937552240480294\n",
      "500 [47.2309626   3.91093223] 45.93750078104854\n"
     ]
    }
   ],
   "source": [
    "alpha = 2e-2\n",
    "max_iter = 501\n",
    "\n",
    "for i in range(max_iter):\n",
    "    y_pred = np.dot(W, X)\n",
    "    err = calc_mse(y, y_pred)\n",
    "    for ii in range(W.shape[0]):\n",
    "        W[ii] -= alpha * (1/n * 2 * np.sum(X[ii] * (y_pred - y)))\n",
    "    if i % 100 == 0:\n",
    "        print(i, W, err)"
   ]
  },
  {
   "cell_type": "markdown",
   "metadata": {},
   "source": [
    "#### В этом коде есть ошибка, исправьте ее."
   ]
  },
  {
   "cell_type": "code",
   "execution_count": 23,
   "metadata": {},
   "outputs": [
    {
     "name": "stdout",
     "output_type": "stream",
     "text": [
      "0 [47.23098715  3.9109277 ] 45.93750074890156\n",
      "100 [47.23200154  3.91074038] 45.937500011196825\n",
      "200 [47.23212558  3.91071748] 45.9375000001674\n",
      "300 [47.23214074  3.91071468] 45.93750000000253\n",
      "400 [47.2321426   3.91071433] 45.937500000000036\n",
      "500 [47.23214283  3.91071429] 45.9375\n"
     ]
    }
   ],
   "source": [
    "for i in range(max_iter):\n",
    "    y_pred = np.dot(W, X)\n",
    "    err = calc_mse(y, y_pred)\n",
    "    W -= (alpha * (1/n * 2 * np.sum(X * (y_pred - y), axis=1)))\n",
    "    if i % 100 == 0:\n",
    "        print(i, W, err)"
   ]
  },
  {
   "cell_type": "markdown",
   "metadata": {},
   "source": [
    "#### Задайте условие остановки алгоритма - когда ошибка за итерацию начинает изменяться ниже определенного порога"
   ]
  },
  {
   "cell_type": "code",
   "execution_count": 24,
   "metadata": {},
   "outputs": [],
   "source": [
    "err_dif = np.inf\n",
    "err_old = 0\n",
    "err_threshold = 1e-7\n",
    "iter_num = 0"
   ]
  },
  {
   "cell_type": "code",
   "execution_count": 25,
   "metadata": {},
   "outputs": [
    {
     "name": "stdout",
     "output_type": "stream",
     "text": [
      "2 [47.23214283  3.91071429] 45.937499999999986\n"
     ]
    }
   ],
   "source": [
    "while err_dif > err_threshold and iter_num < max_iter:\n",
    "    y_pred = np.dot(W, X)\n",
    "    err = calc_mse(y, y_pred)\n",
    "    err_dif = np.abs(err - err_old)\n",
    "    W -= (alpha * (1/n * 2 * X @ (y_pred - y)))\n",
    "    err_old = err\n",
    "    iter_num += 1\n",
    "\n",
    "print(iter_num, W, err)"
   ]
  }
 ],
 "metadata": {
  "kernelspec": {
   "display_name": "Python 3",
   "language": "python",
   "name": "python3"
  }
 },
 "nbformat": 4,
 "nbformat_minor": 4
}
